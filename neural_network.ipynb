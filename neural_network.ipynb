version https://git-lfs.github.com/spec/v1
oid sha256:08e04d30019816d8b090a0de94fe6f08ef223fb1a23d3a20b3c945c6fbe57aee
size 9586
